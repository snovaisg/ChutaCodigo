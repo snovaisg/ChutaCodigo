{
 "cells": [
  {
   "cell_type": "markdown",
   "metadata": {
    "ExecuteTime": {
     "end_time": "2019-12-09T18:20:15.447170Z",
     "start_time": "2019-12-09T18:20:15.444049Z"
    }
   },
   "source": [
    "# Modin Pandas"
   ]
  },
  {
   "cell_type": "markdown",
   "metadata": {},
   "source": [
    "By default, Pandas executes its functions as a single process using a single CPU core. That works just fine for smaller datasets since you might not notice much of a difference in speed. But with larger datasets, and so many more calculations to make, speed starts to take a major hit when using only a single core. It’s doing just one calculation at a time for a dataset that can have millions or even billions of rows.\n",
    "\n",
    "Yet most modern machines made for Data Science have at least 2 CPU cores. That means, for the example of 2 CPU cores, that 50% or more of your computer’s processing power won’t be doing anything by default when using Pandas. The situation gets even worse when you get to 4 cores (modern Intel i5) or 6 cores (modern Intel i7). Pandas simply wasn’t designed to use that computing power effectively.\n",
    "\n",
    "Modin is a new library designed to accelerate Pandas by automatically distributing the computation across all of the system’s available CPU cores. With that, Modin claims to be able to get nearly linear speedup to the number of CPU cores on your system for Pandas DataFrames of any size."
   ]
  },
  {
   "cell_type": "markdown",
   "metadata": {},
   "source": [
    "# Install"
   ]
  },
  {
   "cell_type": "code",
   "execution_count": 1,
   "metadata": {
    "ExecuteTime": {
     "end_time": "2019-12-09T18:25:24.614743Z",
     "start_time": "2019-12-09T18:25:22.707739Z"
    }
   },
   "outputs": [
    {
     "name": "stdout",
     "output_type": "stream",
     "text": [
      "Requirement already satisfied: modin[ray] in /home/calado/.virtualenvs/dl4cv/lib/python3.6/site-packages (0.6.3)\n",
      "Requirement already satisfied: pandas==0.25.3 in /home/calado/.virtualenvs/dl4cv/lib/python3.6/site-packages (from modin[ray]) (0.25.3)\n",
      "Requirement already satisfied: ray==0.7.3; extra == \"ray\" in /home/calado/.virtualenvs/dl4cv/lib/python3.6/site-packages (from modin[ray]) (0.7.3)\n",
      "Requirement already satisfied: numpy>=1.13.3 in /home/calado/.virtualenvs/dl4cv/lib/python3.6/site-packages (from pandas==0.25.3->modin[ray]) (1.14.6)\n",
      "Requirement already satisfied: python-dateutil>=2.6.1 in /home/calado/.virtualenvs/dl4cv/lib/python3.6/site-packages (from pandas==0.25.3->modin[ray]) (2.8.0)\n",
      "Requirement already satisfied: pytz>=2017.2 in /home/calado/.virtualenvs/dl4cv/lib/python3.6/site-packages (from pandas==0.25.3->modin[ray]) (2019.1)\n",
      "Requirement already satisfied: click in /home/calado/.virtualenvs/dl4cv/lib/python3.6/site-packages (from ray==0.7.3; extra == \"ray\"->modin[ray]) (7.0)\n",
      "Requirement already satisfied: protobuf>=3.8.0 in /home/calado/.virtualenvs/dl4cv/lib/python3.6/site-packages (from ray==0.7.3; extra == \"ray\"->modin[ray]) (3.11.1)\n",
      "Requirement already satisfied: colorama in /home/calado/.virtualenvs/dl4cv/lib/python3.6/site-packages (from ray==0.7.3; extra == \"ray\"->modin[ray]) (0.4.3)\n",
      "Requirement already satisfied: pyyaml in /home/calado/.virtualenvs/dl4cv/lib/python3.6/site-packages (from ray==0.7.3; extra == \"ray\"->modin[ray]) (5.1)\n",
      "Requirement already satisfied: redis in /home/calado/.virtualenvs/dl4cv/lib/python3.6/site-packages (from ray==0.7.3; extra == \"ray\"->modin[ray]) (3.3.11)\n",
      "Requirement already satisfied: filelock in /home/calado/.virtualenvs/dl4cv/lib/python3.6/site-packages (from ray==0.7.3; extra == \"ray\"->modin[ray]) (3.0.12)\n",
      "Requirement already satisfied: funcsigs in /home/calado/.virtualenvs/dl4cv/lib/python3.6/site-packages (from ray==0.7.3; extra == \"ray\"->modin[ray]) (1.0.2)\n",
      "Requirement already satisfied: pytest in /home/calado/.virtualenvs/dl4cv/lib/python3.6/site-packages (from ray==0.7.3; extra == \"ray\"->modin[ray]) (5.1.2)\n",
      "Requirement already satisfied: six>=1.0.0 in /home/calado/.virtualenvs/dl4cv/lib/python3.6/site-packages (from ray==0.7.3; extra == \"ray\"->modin[ray]) (1.12.0)\n",
      "Requirement already satisfied: setuptools in /home/calado/.virtualenvs/dl4cv/lib/python3.6/site-packages (from protobuf>=3.8.0->ray==0.7.3; extra == \"ray\"->modin[ray]) (41.0.1)\n",
      "Requirement already satisfied: importlib-metadata>=0.12; python_version < \"3.8\" in /home/calado/.virtualenvs/dl4cv/lib/python3.6/site-packages (from pytest->ray==0.7.3; extra == \"ray\"->modin[ray]) (0.21)\n",
      "Requirement already satisfied: wcwidth in /home/calado/.virtualenvs/dl4cv/lib/python3.6/site-packages (from pytest->ray==0.7.3; extra == \"ray\"->modin[ray]) (0.1.7)\n",
      "Requirement already satisfied: pluggy<1.0,>=0.12 in /home/calado/.virtualenvs/dl4cv/lib/python3.6/site-packages (from pytest->ray==0.7.3; extra == \"ray\"->modin[ray]) (0.13.0)\n",
      "Requirement already satisfied: more-itertools>=4.0.0 in /home/calado/.virtualenvs/dl4cv/lib/python3.6/site-packages (from pytest->ray==0.7.3; extra == \"ray\"->modin[ray]) (7.2.0)\n",
      "Requirement already satisfied: atomicwrites>=1.0 in /home/calado/.virtualenvs/dl4cv/lib/python3.6/site-packages (from pytest->ray==0.7.3; extra == \"ray\"->modin[ray]) (1.3.0)\n",
      "Requirement already satisfied: attrs>=17.4.0 in /home/calado/.virtualenvs/dl4cv/lib/python3.6/site-packages (from pytest->ray==0.7.3; extra == \"ray\"->modin[ray]) (19.1.0)\n",
      "Requirement already satisfied: packaging in /home/calado/.virtualenvs/dl4cv/lib/python3.6/site-packages (from pytest->ray==0.7.3; extra == \"ray\"->modin[ray]) (19.0)\n",
      "Requirement already satisfied: py>=1.5.0 in /home/calado/.virtualenvs/dl4cv/lib/python3.6/site-packages (from pytest->ray==0.7.3; extra == \"ray\"->modin[ray]) (1.8.0)\n",
      "Requirement already satisfied: zipp>=0.5 in /home/calado/.virtualenvs/dl4cv/lib/python3.6/site-packages (from importlib-metadata>=0.12; python_version < \"3.8\"->pytest->ray==0.7.3; extra == \"ray\"->modin[ray]) (0.6.0)\n",
      "Requirement already satisfied: pyparsing>=2.0.2 in /home/calado/.virtualenvs/dl4cv/lib/python3.6/site-packages (from packaging->pytest->ray==0.7.3; extra == \"ray\"->modin[ray]) (2.4.0)\n"
     ]
    }
   ],
   "source": [
    "!pip install modin[ray]"
   ]
  },
  {
   "cell_type": "markdown",
   "metadata": {},
   "source": [
    "**Note:** By the time this tutorial was done the Dask version was still on trial "
   ]
  },
  {
   "cell_type": "markdown",
   "metadata": {},
   "source": [
    "# Benchmarks and Examples"
   ]
  },
  {
   "cell_type": "code",
   "execution_count": null,
   "metadata": {},
   "outputs": [],
   "source": []
  },
  {
   "cell_type": "markdown",
   "metadata": {},
   "source": [
    "# Practical Tips for using Modin"
   ]
  },
  {
   "cell_type": "markdown",
   "metadata": {},
   "source": [
    "By default, Modin will use all of the CPU cores available on your machine. There may be some cases where you wish to limit the number of CPU cores"
   ]
  },
  {
   "cell_type": "code",
   "execution_count": 2,
   "metadata": {
    "ExecuteTime": {
     "end_time": "2019-12-09T18:25:26.889338Z",
     "start_time": "2019-12-09T18:25:24.634617Z"
    }
   },
   "outputs": [
    {
     "name": "stderr",
     "output_type": "stream",
     "text": [
      "2019-12-09 18:25:25,016\tWARNING worker.py:1373 -- WARNING: Not updating worker name since `setproctitle` is not installed. Install this with `pip install setproctitle` (or ray[debug]) to enable monitoring of worker processes.\n",
      "2019-12-09 18:25:25,018\tINFO node.py:498 -- Process STDOUT and STDERR is being redirected to /tmp/ray/session_2019-12-09_18-25-25_017761_24230/logs.\n",
      "2019-12-09 18:25:25,125\tINFO services.py:409 -- Waiting for redis server at 127.0.0.1:46329 to respond...\n",
      "2019-12-09 18:25:25,290\tINFO services.py:409 -- Waiting for redis server at 127.0.0.1:61395 to respond...\n",
      "2019-12-09 18:25:25,317\tINFO services.py:809 -- Starting Redis shard with 3.34 GB max memory.\n",
      "2019-12-09 18:25:25,396\tINFO node.py:512 -- Process STDOUT and STDERR is being redirected to /tmp/ray/session_2019-12-09_18-25-25_017761_24230/logs.\n",
      "2019-12-09 18:25:25,400\tWARNING services.py:1330 -- WARNING: The default object store size of 5.01 GB will use more than 50% of the available memory on this node (6.22 GB). Consider setting the object store memory manually to a smaller size to avoid memory contention with other applications.\n",
      "2019-12-09 18:25:25,402\tINFO services.py:1475 -- Starting the Plasma object store with 5.01 GB memory using /dev/shm.\n"
     ]
    }
   ],
   "source": [
    "import ray\n",
    "ray.init(num_cpus=4)\n",
    "import modin.pandas as pd"
   ]
  },
  {
   "cell_type": "markdown",
   "metadata": {},
   "source": [
    "When working with big data, it’s not uncommon for the size of the dataset to exceed the amount of memory (RAM) on your system. Modin has a specific flag that we can set to true which will enable its out of core mode. Out of core basically means that Modin will use your disk as an overflow storage for your memory, allowing you to work with datasets far bigger than your RAM size. We can set the following environment variable to enable this functionality:\n"
   ]
  },
  {
   "cell_type": "code",
   "execution_count": 5,
   "metadata": {
    "ExecuteTime": {
     "end_time": "2019-12-09T18:27:34.884448Z",
     "start_time": "2019-12-09T18:27:34.850397Z"
    }
   },
   "outputs": [
    {
     "ename": "SyntaxError",
     "evalue": "invalid syntax (<ipython-input-5-c87e6ac53963>, line 1)",
     "output_type": "error",
     "traceback": [
      "\u001b[0;36m  File \u001b[0;32m\"<ipython-input-5-c87e6ac53963>\"\u001b[0;36m, line \u001b[0;32m1\u001b[0m\n\u001b[0;31m    export MODIN_OUT_OF_CORE=true\u001b[0m\n\u001b[0m                           ^\u001b[0m\n\u001b[0;31mSyntaxError\u001b[0m\u001b[0;31m:\u001b[0m invalid syntax\n"
     ]
    }
   ],
   "source": [
    "export MODIN_OUT_OF_CORE=true\n"
   ]
  },
  {
   "cell_type": "code",
   "execution_count": null,
   "metadata": {},
   "outputs": [],
   "source": []
  }
 ],
 "metadata": {
  "kernelspec": {
   "display_name": "Python 3",
   "language": "python",
   "name": "python3"
  },
  "language_info": {
   "codemirror_mode": {
    "name": "ipython",
    "version": 3
   },
   "file_extension": ".py",
   "mimetype": "text/x-python",
   "name": "python",
   "nbconvert_exporter": "python",
   "pygments_lexer": "ipython3",
   "version": "3.6.7"
  },
  "toc": {
   "base_numbering": 1,
   "nav_menu": {},
   "number_sections": true,
   "sideBar": true,
   "skip_h1_title": false,
   "title_cell": "Table of Contents",
   "title_sidebar": "Contents",
   "toc_cell": false,
   "toc_position": {},
   "toc_section_display": true,
   "toc_window_display": false
  },
  "varInspector": {
   "cols": {
    "lenName": 16,
    "lenType": 16,
    "lenVar": 40
   },
   "kernels_config": {
    "python": {
     "delete_cmd_postfix": "",
     "delete_cmd_prefix": "del ",
     "library": "var_list.py",
     "varRefreshCmd": "print(var_dic_list())"
    },
    "r": {
     "delete_cmd_postfix": ") ",
     "delete_cmd_prefix": "rm(",
     "library": "var_list.r",
     "varRefreshCmd": "cat(var_dic_list()) "
    }
   },
   "types_to_exclude": [
    "module",
    "function",
    "builtin_function_or_method",
    "instance",
    "_Feature"
   ],
   "window_display": false
  }
 },
 "nbformat": 4,
 "nbformat_minor": 2
}
