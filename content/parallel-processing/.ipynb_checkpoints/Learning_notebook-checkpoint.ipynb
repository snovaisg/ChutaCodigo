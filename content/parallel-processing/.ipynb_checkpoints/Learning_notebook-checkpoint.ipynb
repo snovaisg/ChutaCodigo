{
 "cells": [
  {
   "cell_type": "markdown",
   "metadata": {
    "ExecuteTime": {
     "end_time": "2019-12-10T01:07:49.884829Z",
     "start_time": "2019-12-10T01:07:49.880897Z"
    }
   },
   "source": [
    "<img src=\"images/modin_logo.png\">"
   ]
  },
  {
   "cell_type": "markdown",
   "metadata": {},
   "source": [
    "By default, Pandas executes its functions as a single process using a **single CPU core.** That works just fine for smaller datasets since you might not notice much of a difference in speed. But with larger datasets, speed starts to take a major hit when using only a single core. It’s doing just one calculation at a time for a dataset that can have millions or even billions of rows.\n",
    "\n",
    "\n",
    "Modin is a new library designed to accelerate Pandas by automatically distributing the computation across all of the **system’s available CPU cores.** With that, Modin claims to be able to get nearly linear speedup to the number of CPU cores on your system for Pandas DataFrames of any size.\n",
    "\n",
    "**Documentation:**\n",
    "- https://readthedocs.org/projects/modin/downloads/pdf/latest/ **pdf**\n",
    "- https://modin.readthedocs.io/en/latest/#faster-pandas-even-on-your-laptop **site**"
   ]
  },
  {
   "cell_type": "markdown",
   "metadata": {
    "ExecuteTime": {
     "end_time": "2019-12-10T01:02:22.743301Z",
     "start_time": "2019-12-10T01:02:22.739006Z"
    }
   },
   "source": [
    "# How it works"
   ]
  },
  {
   "cell_type": "markdown",
   "metadata": {},
   "source": [
    "Parallelizing a calculation is as easy as applying that calculation on different data points across every available CPU core. For a Pandas DataFrame, a basic idea would be to divide up the DataFrame into a few pieces, as many pieces as you have CPU cores, and let each CPU core run the calculation on its own piece. In the end, we can aggregate the results, which is a computationally cheap operation.\n"
   ]
  },
  {
   "cell_type": "markdown",
   "metadata": {
    "ExecuteTime": {
     "end_time": "2019-12-10T01:14:05.250535Z",
     "start_time": "2019-12-10T01:14:05.215362Z"
    }
   },
   "source": [
    "<img src=\"images/cpu_architecture.png\">"
   ]
  },
  {
   "cell_type": "markdown",
   "metadata": {},
   "source": [
    "That’s exactly what Modin does. It slices your DataFrame into different parts such that each part can be sent to a different CPU core. Modin partitions the DataFrames across both the rows and the columns. This makes Modin’s parallel processing scalable to DataFrames of any shape.\n"
   ]
  },
  {
   "cell_type": "markdown",
   "metadata": {},
   "source": [
    "Imagine if you are given a DataFrame with many columns but fewer rows. Some libraries only perform the partitioning across rows, which would be inefficient in this case since we have more columns than rows. But with Modin, since the partitioning is done across both dimensions, the parallel processing remains efficient all shapes of DataFrames, whether they are wider (lots of columns), longer (lots of rows), or both.\n"
   ]
  },
  {
   "cell_type": "markdown",
   "metadata": {
    "ExecuteTime": {
     "end_time": "2019-12-10T01:16:46.664368Z",
     "start_time": "2019-12-10T01:16:46.656875Z"
    }
   },
   "source": [
    "<img src=\"images/df_schema.png\">"
   ]
  },
  {
   "cell_type": "markdown",
   "metadata": {},
   "source": [
    "# Install"
   ]
  },
  {
   "cell_type": "markdown",
   "metadata": {},
   "source": [
    "To do a lot of the heavy lifting when it comes to executing the parallel processing, Modin can use either **Dask** or **Ray**. Both of them are parallel computing libraries with Python APIs and you can select one or the other to use with Modin at runtime. Ray will be the safest one to use for now as it is more stable — the Dask backend is experimental."
   ]
  },
  {
   "cell_type": "code",
   "execution_count": 1,
   "metadata": {
    "ExecuteTime": {
     "end_time": "2019-12-10T01:32:01.772160Z",
     "start_time": "2019-12-10T01:32:00.236692Z"
    }
   },
   "outputs": [
    {
     "name": "stdout",
     "output_type": "stream",
     "text": [
      "Requirement already satisfied: modin[ray] in /home/calado/.virtualenvs/dl4cv/lib/python3.6/site-packages (0.6.3)\n",
      "Requirement already satisfied: pandas==0.25.3 in /home/calado/.virtualenvs/dl4cv/lib/python3.6/site-packages (from modin[ray]) (0.25.3)\n",
      "Requirement already satisfied: ray==0.7.3; extra == \"ray\" in /home/calado/.virtualenvs/dl4cv/lib/python3.6/site-packages (from modin[ray]) (0.7.3)\n",
      "Requirement already satisfied: pytz>=2017.2 in /home/calado/.virtualenvs/dl4cv/lib/python3.6/site-packages (from pandas==0.25.3->modin[ray]) (2019.1)\n",
      "Requirement already satisfied: numpy>=1.13.3 in /home/calado/.virtualenvs/dl4cv/lib/python3.6/site-packages (from pandas==0.25.3->modin[ray]) (1.14.6)\n",
      "Requirement already satisfied: python-dateutil>=2.6.1 in /home/calado/.virtualenvs/dl4cv/lib/python3.6/site-packages (from pandas==0.25.3->modin[ray]) (2.8.0)\n",
      "Requirement already satisfied: pytest in /home/calado/.virtualenvs/dl4cv/lib/python3.6/site-packages (from ray==0.7.3; extra == \"ray\"->modin[ray]) (5.1.2)\n",
      "Requirement already satisfied: pyyaml in /home/calado/.virtualenvs/dl4cv/lib/python3.6/site-packages (from ray==0.7.3; extra == \"ray\"->modin[ray]) (5.1)\n",
      "Requirement already satisfied: click in /home/calado/.virtualenvs/dl4cv/lib/python3.6/site-packages (from ray==0.7.3; extra == \"ray\"->modin[ray]) (7.0)\n",
      "Requirement already satisfied: funcsigs in /home/calado/.virtualenvs/dl4cv/lib/python3.6/site-packages (from ray==0.7.3; extra == \"ray\"->modin[ray]) (1.0.2)\n",
      "Requirement already satisfied: filelock in /home/calado/.virtualenvs/dl4cv/lib/python3.6/site-packages (from ray==0.7.3; extra == \"ray\"->modin[ray]) (3.0.12)\n",
      "Requirement already satisfied: six>=1.0.0 in /home/calado/.virtualenvs/dl4cv/lib/python3.6/site-packages (from ray==0.7.3; extra == \"ray\"->modin[ray]) (1.12.0)\n",
      "Requirement already satisfied: redis in /home/calado/.virtualenvs/dl4cv/lib/python3.6/site-packages (from ray==0.7.3; extra == \"ray\"->modin[ray]) (3.3.11)\n",
      "Requirement already satisfied: colorama in /home/calado/.virtualenvs/dl4cv/lib/python3.6/site-packages (from ray==0.7.3; extra == \"ray\"->modin[ray]) (0.4.3)\n",
      "Requirement already satisfied: protobuf>=3.8.0 in /home/calado/.virtualenvs/dl4cv/lib/python3.6/site-packages (from ray==0.7.3; extra == \"ray\"->modin[ray]) (3.11.1)\n",
      "Requirement already satisfied: attrs>=17.4.0 in /home/calado/.virtualenvs/dl4cv/lib/python3.6/site-packages (from pytest->ray==0.7.3; extra == \"ray\"->modin[ray]) (19.1.0)\n",
      "Requirement already satisfied: atomicwrites>=1.0 in /home/calado/.virtualenvs/dl4cv/lib/python3.6/site-packages (from pytest->ray==0.7.3; extra == \"ray\"->modin[ray]) (1.3.0)\n",
      "Requirement already satisfied: importlib-metadata>=0.12; python_version < \"3.8\" in /home/calado/.virtualenvs/dl4cv/lib/python3.6/site-packages (from pytest->ray==0.7.3; extra == \"ray\"->modin[ray]) (0.21)\n",
      "Requirement already satisfied: packaging in /home/calado/.virtualenvs/dl4cv/lib/python3.6/site-packages (from pytest->ray==0.7.3; extra == \"ray\"->modin[ray]) (19.0)\n",
      "Requirement already satisfied: py>=1.5.0 in /home/calado/.virtualenvs/dl4cv/lib/python3.6/site-packages (from pytest->ray==0.7.3; extra == \"ray\"->modin[ray]) (1.8.0)\n",
      "Requirement already satisfied: more-itertools>=4.0.0 in /home/calado/.virtualenvs/dl4cv/lib/python3.6/site-packages (from pytest->ray==0.7.3; extra == \"ray\"->modin[ray]) (7.2.0)\n",
      "Requirement already satisfied: wcwidth in /home/calado/.virtualenvs/dl4cv/lib/python3.6/site-packages (from pytest->ray==0.7.3; extra == \"ray\"->modin[ray]) (0.1.7)\n",
      "Requirement already satisfied: pluggy<1.0,>=0.12 in /home/calado/.virtualenvs/dl4cv/lib/python3.6/site-packages (from pytest->ray==0.7.3; extra == \"ray\"->modin[ray]) (0.13.0)\n",
      "Requirement already satisfied: setuptools in /home/calado/.virtualenvs/dl4cv/lib/python3.6/site-packages (from protobuf>=3.8.0->ray==0.7.3; extra == \"ray\"->modin[ray]) (41.0.1)\n",
      "Requirement already satisfied: zipp>=0.5 in /home/calado/.virtualenvs/dl4cv/lib/python3.6/site-packages (from importlib-metadata>=0.12; python_version < \"3.8\"->pytest->ray==0.7.3; extra == \"ray\"->modin[ray]) (0.6.0)\n",
      "Requirement already satisfied: pyparsing>=2.0.2 in /home/calado/.virtualenvs/dl4cv/lib/python3.6/site-packages (from packaging->pytest->ray==0.7.3; extra == \"ray\"->modin[ray]) (2.4.0)\n"
     ]
    }
   ],
   "source": [
    "!pip install modin[ray]"
   ]
  },
  {
   "cell_type": "markdown",
   "metadata": {},
   "source": [
    "# Benchmarks and Examples"
   ]
  },
  {
   "cell_type": "code",
   "execution_count": 2,
   "metadata": {
    "ExecuteTime": {
     "end_time": "2019-12-10T01:32:03.227122Z",
     "start_time": "2019-12-10T01:32:01.780973Z"
    }
   },
   "outputs": [],
   "source": [
    "import modin.pandas as pd\n"
   ]
  },
  {
   "cell_type": "markdown",
   "metadata": {},
   "source": [
    "# Practical Tips for using Modin"
   ]
  },
  {
   "cell_type": "markdown",
   "metadata": {},
   "source": [
    "By default, Modin will use all of the CPU cores available on your machine. There may be some cases where you wish to limit the number of CPU cores"
   ]
  },
  {
   "cell_type": "code",
   "execution_count": 3,
   "metadata": {
    "ExecuteTime": {
     "end_time": "2019-12-10T01:32:03.250148Z",
     "start_time": "2019-12-10T01:32:03.230062Z"
    }
   },
   "outputs": [
    {
     "name": "stderr",
     "output_type": "stream",
     "text": [
      "2019-12-10 01:32:03,231\tWARNING worker.py:1373 -- WARNING: Not updating worker name since `setproctitle` is not installed. Install this with `pip install setproctitle` (or ray[debug]) to enable monitoring of worker processes.\n",
      "2019-12-10 01:32:03,243\tERROR worker.py:1379 -- Calling ray.init() again after it has already been called.\n"
     ]
    }
   ],
   "source": [
    "import ray\n",
    "ray.init(num_cpus=4, ignore_reinit_error=True)\n",
    "import modin.pandas as pd"
   ]
  },
  {
   "cell_type": "markdown",
   "metadata": {},
   "source": [
    "When working with big data, it’s not uncommon for the size of the dataset to exceed the amount of memory (RAM) on your system. Modin has a specific flag that we can set to true which will enable its out of core mode. Out of core basically means that Modin will use your disk as an overflow storage for your memory, allowing you to work with datasets far bigger than your RAM size. We can set the following environment variable to enable this functionality:\n"
   ]
  },
  {
   "cell_type": "code",
   "execution_count": 4,
   "metadata": {
    "ExecuteTime": {
     "end_time": "2019-12-10T01:32:03.424507Z",
     "start_time": "2019-12-10T01:32:03.259002Z"
    }
   },
   "outputs": [],
   "source": [
    "!export MODIN_OUT_OF_CORE=true"
   ]
  }
 ],
 "metadata": {
  "kernelspec": {
   "display_name": "Python 3",
   "language": "python",
   "name": "python3"
  },
  "language_info": {
   "codemirror_mode": {
    "name": "ipython",
    "version": 3
   },
   "file_extension": ".py",
   "mimetype": "text/x-python",
   "name": "python",
   "nbconvert_exporter": "python",
   "pygments_lexer": "ipython3",
   "version": "3.6.7"
  },
  "toc": {
   "base_numbering": 1,
   "nav_menu": {},
   "number_sections": true,
   "sideBar": true,
   "skip_h1_title": false,
   "title_cell": "Table of Contents",
   "title_sidebar": "Contents",
   "toc_cell": false,
   "toc_position": {},
   "toc_section_display": true,
   "toc_window_display": false
  },
  "varInspector": {
   "cols": {
    "lenName": 16,
    "lenType": 16,
    "lenVar": 40
   },
   "kernels_config": {
    "python": {
     "delete_cmd_postfix": "",
     "delete_cmd_prefix": "del ",
     "library": "var_list.py",
     "varRefreshCmd": "print(var_dic_list())"
    },
    "r": {
     "delete_cmd_postfix": ") ",
     "delete_cmd_prefix": "rm(",
     "library": "var_list.r",
     "varRefreshCmd": "cat(var_dic_list()) "
    }
   },
   "types_to_exclude": [
    "module",
    "function",
    "builtin_function_or_method",
    "instance",
    "_Feature"
   ],
   "window_display": false
  }
 },
 "nbformat": 4,
 "nbformat_minor": 2
}
